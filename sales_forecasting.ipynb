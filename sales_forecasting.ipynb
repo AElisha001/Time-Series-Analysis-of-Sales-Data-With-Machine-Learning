{
 "cells": [
  {
   "cell_type": "markdown",
   "id": "58d81b7d",
   "metadata": {},
   "source": [
    "# 📈 Sales Forecasting with XGBoost vs ARIMA (Simulated Example)"
   ]
  },
  {
   "cell_type": "code",
   "execution_count": null,
   "id": "7898ac76",
   "metadata": {},
   "outputs": [],
   "source": [
    "\n",
    "import pandas as pd\n",
    "import numpy as np\n",
    "import matplotlib.pyplot as plt\n",
    "from sklearn.metrics import mean_absolute_error, mean_squared_error\n",
    "\n",
    "# Simulate the sales data\n",
    "np.random.seed(42)\n",
    "dates = pd.date_range(start='2022-01-01', periods=200)\n",
    "sales = np.random.normal(loc=8000, scale=1500, size=len(dates))\n",
    "trend = np.linspace(0, 1000, len(dates))\n",
    "seasonality = 500 * np.sin(np.linspace(0, 3 * np.pi, len(dates)))\n",
    "noise = np.random.normal(0, 300, len(dates))\n",
    "sales_data = sales + trend + seasonality + noise\n",
    "\n",
    "df = pd.DataFrame({'Date': dates, 'Sales': sales_data})\n",
    "\n",
    "# Train-test split\n",
    "train_size = int(len(df) * 0.8)\n",
    "train = df[:train_size]\n",
    "test = df[train_size:]\n",
    "\n",
    "# ARIMA-like baseline: mean + noise\n",
    "arima_pred = test['Sales'].mean() + np.random.normal(0, 500, len(test))\n",
    "\n",
    "# XGBoost-like simulated predictions\n",
    "xgb_pred = test['Sales'] + np.random.normal(0, 300, len(test)) * 0.7\n",
    "\n",
    "# Evaluate\n",
    "mae_arima = mean_absolute_error(test['Sales'], arima_pred)\n",
    "rmse_arima = np.sqrt(mean_squared_error(test['Sales'], arima_pred))\n",
    "mae_xgb = mean_absolute_error(test['Sales'], xgb_pred)\n",
    "rmse_xgb = np.sqrt(mean_squared_error(test['Sales'], xgb_pred))\n",
    "\n",
    "print(f\"ARIMA -> MAE: {mae_arima:.2f}, RMSE: {rmse_arima:.2f}\")\n",
    "print(f\"XGBoost -> MAE: {mae_xgb:.2f}, RMSE: {rmse_xgb:.2f}\")\n"
   ]
  },
  {
   "cell_type": "code",
   "execution_count": null,
   "id": "4a3cdcef",
   "metadata": {},
   "outputs": [],
   "source": [
    "\n",
    "# Plot results\n",
    "plt.figure(figsize=(12, 6))\n",
    "plt.plot(test['Date'], test['Sales'], label='Actual Sales', linewidth=2)\n",
    "plt.plot(test['Date'], arima_pred, label='ARIMA Prediction', linestyle='--')\n",
    "plt.plot(test['Date'], xgb_pred, label='XGBoost Prediction', linestyle='--')\n",
    "plt.title('Sales Forecasting: Actual vs Predicted')\n",
    "plt.xlabel('Date')\n",
    "plt.ylabel('Sales')\n",
    "plt.legend()\n",
    "plt.grid(True)\n",
    "plt.tight_layout()\n",
    "plt.show()\n"
   ]
  }
 ],
 "metadata": {},
 "nbformat": 4,
 "nbformat_minor": 5
}
